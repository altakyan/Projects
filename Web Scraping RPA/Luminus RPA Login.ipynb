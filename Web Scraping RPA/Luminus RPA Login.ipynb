{
 "cells": [
  {
   "cell_type": "code",
   "execution_count": 1,
   "id": "dd33a5ea",
   "metadata": {},
   "outputs": [],
   "source": [
    "import rpa\n",
    "import getpass"
   ]
  },
  {
   "cell_type": "code",
   "execution_count": 2,
   "id": "76851fdc",
   "metadata": {},
   "outputs": [
    {
     "data": {
      "text/plain": [
       "True"
      ]
     },
     "execution_count": 2,
     "metadata": {},
     "output_type": "execute_result"
    }
   ],
   "source": [
    "rpa.init()\n"
   ]
  },
  {
   "cell_type": "code",
   "execution_count": 3,
   "id": "e2aa67be",
   "metadata": {},
   "outputs": [
    {
     "name": "stdout",
     "output_type": "stream",
     "text": [
      "Enter Username:nusstu/E0725511\n",
      "Enter Password:········\n"
     ]
    },
    {
     "data": {
      "text/plain": [
       "True"
      ]
     },
     "execution_count": 3,
     "metadata": {},
     "output_type": "execute_result"
    }
   ],
   "source": [
    "link = 'https://vafs.nus.edu.sg/adfs/oauth2/authorize?response_type=code&client_id=E10493A3B1024F14BDC7D0D8B9F649E9-234390&state=Vs16AFJ0NVHdBGB0FpvMCMywLfVv19WI3Xhg7vQg&redirect_uri=https%3A%2F%2Fluminus.nus.edu.sg%2Fauth%2Fcallback&scope=&resource=sg_edu_nus_oauth&nonce=Vs16AFJ0NVHdBGB0FpvMCMywLfVv19WI3Xhg7vQg'\n",
    "rpa.url(link)\n",
    "\n",
    "username = input('Enter Username:')\n",
    "rpa.type('//*[@id=\"userNameInput\"]', f'{username}')\n",
    "\n",
    "password = getpass.getpass('Enter Password:')\n",
    "rpa.type('//*[@id=\"passwordInput\"]', f'{password}[enter]')"
   ]
  },
  {
   "cell_type": "code",
   "execution_count": 4,
   "id": "16a315b3",
   "metadata": {},
   "outputs": [
    {
     "data": {
      "text/plain": [
       "True"
      ]
     },
     "execution_count": 4,
     "metadata": {},
     "output_type": "execute_result"
    }
   ],
   "source": [
    "rpa.close()"
   ]
  },
  {
   "cell_type": "code",
   "execution_count": null,
   "id": "e979d561",
   "metadata": {},
   "outputs": [],
   "source": []
  },
  {
   "cell_type": "code",
   "execution_count": null,
   "id": "3ca2bb6d",
   "metadata": {},
   "outputs": [],
   "source": []
  }
 ],
 "metadata": {
  "kernelspec": {
   "display_name": "Python 3",
   "language": "python",
   "name": "python3"
  },
  "language_info": {
   "codemirror_mode": {
    "name": "ipython",
    "version": 3
   },
   "file_extension": ".py",
   "mimetype": "text/x-python",
   "name": "python",
   "nbconvert_exporter": "python",
   "pygments_lexer": "ipython3",
   "version": "3.8.8"
  }
 },
 "nbformat": 4,
 "nbformat_minor": 5
}
