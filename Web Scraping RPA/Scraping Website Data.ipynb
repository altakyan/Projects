{
 "cells": [
  {
   "cell_type": "markdown",
   "metadata": {},
   "source": [
    "## Task for Practice"
   ]
  },
  {
   "cell_type": "markdown",
   "metadata": {},
   "source": [
    "1. go to [https://eservices.mas.gov.sg/fid/institution](https://eservices.mas.gov.sg/fid/institution)\n",
    "2. Choose a Sector and License Type/Status (make sure you have listings to scrape)\n",
    "3. Scrape the name, phone number, and address of the entities there. (Scrape multiple pages if you wish)\n",
    "4. Put it all into a dataframe"
   ]
  },
  {
   "cell_type": "code",
   "execution_count": 12,
   "metadata": {},
   "outputs": [],
   "source": [
    "import rpa"
   ]
  },
  {
   "cell_type": "code",
   "execution_count": 31,
   "metadata": {},
   "outputs": [
    {
     "data": {
      "text/plain": [
       "True"
      ]
     },
     "execution_count": 31,
     "metadata": {},
     "output_type": "execute_result"
    }
   ],
   "source": [
    "rpa.init()"
   ]
  },
  {
   "cell_type": "code",
   "execution_count": 32,
   "metadata": {},
   "outputs": [
    {
     "data": {
      "text/plain": [
       "True"
      ]
     },
     "execution_count": 32,
     "metadata": {},
     "output_type": "execute_result"
    }
   ],
   "source": [
    "rpa.url(\"https://eservices.mas.gov.sg/fid/institution\")"
   ]
  },
  {
   "cell_type": "code",
   "execution_count": 33,
   "metadata": {},
   "outputs": [
    {
     "data": {
      "text/plain": [
       "True"
      ]
     },
     "execution_count": 33,
     "metadata": {},
     "output_type": "execute_result"
    }
   ],
   "source": [
    "#Filter by Banking\n",
    "rpa.click(\"//*[@id='divResultContent']/div/div[1]/div[2]/div[1]/div/div[1]/p/a\")\n",
    "\n",
    "#FIlter by Local Bank\n",
    "rpa.click(\"//*[@id='divResultContent']/div/div[1]/div[2]/div/div/div[6]/p/a\")"
   ]
  },
  {
   "cell_type": "code",
   "execution_count": 34,
   "metadata": {},
   "outputs": [
    {
     "data": {
      "text/plain": [
       "3"
      ]
     },
     "execution_count": 34,
     "metadata": {},
     "output_type": "execute_result"
    }
   ],
   "source": [
    "total = rpa.count(\"(//*[@class='inner']/a)/@href\")\n",
    "total\n",
    "\n"
   ]
  },
  {
   "cell_type": "code",
   "execution_count": 35,
   "metadata": {},
   "outputs": [],
   "source": [
    "name_list = []\n",
    "number_list = []\n",
    "address_list = []\n",
    "\n",
    "for i in range(1, total + 1):\n",
    "    \n",
    "    name_list.append(rpa.read(f\"//*[@id='divResultContent']/div/div[2]/div[{i}]/a/h3\"))\n",
    " \n",
    "    number_list.append(rpa.read(f\"//*[@id='divResultContent']/div/div[2]/div[{i}]/div[2]/table/tbody/tr[2]/td[2]/a\"))\n",
    "\n",
    "    address_list.append(rpa.read(f\"//*[@id='divResultContent']/div/div[2]/div[{i}]/div[2]/table/tbody/tr[3]/td[2]\"))\n"
   ]
  },
  {
   "cell_type": "code",
   "execution_count": 36,
   "metadata": {},
   "outputs": [
    {
     "name": "stdout",
     "output_type": "stream",
     "text": [
      "3\n",
      "3\n",
      "3\n"
     ]
    }
   ],
   "source": [
    "print(len(name_list))\n",
    "print(len(number_list))\n",
    "print(len(address_list))"
   ]
  },
  {
   "cell_type": "code",
   "execution_count": 37,
   "metadata": {},
   "outputs": [
    {
     "data": {
      "text/html": [
       "<div>\n",
       "<style scoped>\n",
       "    .dataframe tbody tr th:only-of-type {\n",
       "        vertical-align: middle;\n",
       "    }\n",
       "\n",
       "    .dataframe tbody tr th {\n",
       "        vertical-align: top;\n",
       "    }\n",
       "\n",
       "    .dataframe thead th {\n",
       "        text-align: right;\n",
       "    }\n",
       "</style>\n",
       "<table border=\"1\" class=\"dataframe\">\n",
       "  <thead>\n",
       "    <tr style=\"text-align: right;\">\n",
       "      <th></th>\n",
       "      <th>Bank Name</th>\n",
       "      <th>Contact Number</th>\n",
       "      <th>Address Name</th>\n",
       "    </tr>\n",
       "  </thead>\n",
       "  <tbody>\n",
       "    <tr>\n",
       "      <th>0</th>\n",
       "      <td>HONG LEONG FINANCE LIMITED</td>\n",
       "      <td>+65 64159433</td>\n",
       "      <td>16 RAFFLES QUAY #01-05 HONG LEONG BUILDING 048581</td>\n",
       "    </tr>\n",
       "    <tr>\n",
       "      <th>1</th>\n",
       "      <td>SING INVESTMENTS &amp; FINANCE LIMITED</td>\n",
       "      <td>+65 63050300</td>\n",
       "      <td>96 ROBINSON ROAD #01-01 SIF BUILDING 068899</td>\n",
       "    </tr>\n",
       "    <tr>\n",
       "      <th>2</th>\n",
       "      <td>SINGAPURA FINANCE LTD</td>\n",
       "      <td>+65 68800633</td>\n",
       "      <td>150 CECIL STREET #01-00  069543</td>\n",
       "    </tr>\n",
       "  </tbody>\n",
       "</table>\n",
       "</div>"
      ],
      "text/plain": [
       "                            Bank Name Contact Number  \\\n",
       "0          HONG LEONG FINANCE LIMITED   +65 64159433   \n",
       "1  SING INVESTMENTS & FINANCE LIMITED   +65 63050300   \n",
       "2               SINGAPURA FINANCE LTD   +65 68800633   \n",
       "\n",
       "                                        Address Name  \n",
       "0  16 RAFFLES QUAY #01-05 HONG LEONG BUILDING 048581  \n",
       "1        96 ROBINSON ROAD #01-01 SIF BUILDING 068899  \n",
       "2                    150 CECIL STREET #01-00  069543  "
      ]
     },
     "execution_count": 37,
     "metadata": {},
     "output_type": "execute_result"
    }
   ],
   "source": [
    "import pandas as pd\n",
    "data = pd.DataFrame({\"Bank Name\":name_list,\n",
    "              \"Contact Number\":number_list, \"Address Name\":address_list})\n",
    "\n",
    "data"
   ]
  },
  {
   "cell_type": "code",
   "execution_count": 20,
   "metadata": {},
   "outputs": [
    {
     "data": {
      "text/plain": [
       "True"
      ]
     },
     "execution_count": 20,
     "metadata": {},
     "output_type": "execute_result"
    }
   ],
   "source": [
    "rpa.close()"
   ]
  },
  {
   "cell_type": "code",
   "execution_count": null,
   "metadata": {},
   "outputs": [],
   "source": []
  }
 ],
 "metadata": {
  "kernelspec": {
   "display_name": "Python 3",
   "language": "python",
   "name": "python3"
  },
  "language_info": {
   "codemirror_mode": {
    "name": "ipython",
    "version": 3
   },
   "file_extension": ".py",
   "mimetype": "text/x-python",
   "name": "python",
   "nbconvert_exporter": "python",
   "pygments_lexer": "ipython3",
   "version": "3.8.8"
  }
 },
 "nbformat": 4,
 "nbformat_minor": 4
}
